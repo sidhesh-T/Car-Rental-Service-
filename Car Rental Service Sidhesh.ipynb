{
 "cells": [
  {
   "cell_type": "markdown",
   "id": "9b940957",
   "metadata": {},
   "source": [
    "# Car Rental Service"
   ]
  },
  {
   "cell_type": "code",
   "execution_count": 2,
   "id": "89bd7e2f",
   "metadata": {},
   "outputs": [
    {
     "name": "stdout",
     "output_type": "stream",
     "text": [
      "Rental registration successful.\n",
      "Price for rental period: 250.00 USD\n"
     ]
    }
   ],
   "source": [
    "from enum import Enum\n",
    "from datetime import datetime\n",
    "\n",
    "\n",
    "class CarCategory(Enum):\n",
    "    COMPACT = 1\n",
    "    PREMIUM = 2\n",
    "    MINIVAN = 3\n",
    "    \n",
    "\n",
    "\n",
    "class RentalCarAdmin:\n",
    "    def __init__(self, base_day_rental, kilometer_price):\n",
    "        self.base_day_rental = base_day_rental\n",
    "        self.kilometer_price = kilometer_price\n",
    "        self.bookings = {}\n",
    "        \n",
    "        \n",
    "\n",
    "    def register_rental(self, booking_number, customer_name, car_category, rental_time, mileage):\n",
    "        if booking_number in self.bookings:\n",
    "            return \"Booking number already exists. Please provide a unique booking number.\"\n",
    "\n",
    "        self.bookings[booking_number] = {\n",
    "            \"customer_name\": customer_name,\n",
    "            \"car_category\": car_category,\n",
    "            \"rental_time\": rental_time,\n",
    "            \"mileage\": mileage,\n",
    "        }\n",
    "        return \"Rental registration successful.\"\n",
    "    \n",
    "    \n",
    "\n",
    "    def calculate_price(self, booking_number, return_time, current_mileage):\n",
    "        if booking_number not in self.bookings:\n",
    "            return \"Invalid booking number. Please provide a valid booking number.\"\n",
    "\n",
    "        rental_info = self.bookings[booking_number]\n",
    "        category = rental_info[\"car_category\"]\n",
    "        rental_time = rental_info[\"rental_time\"]\n",
    "        mileage = rental_info[\"mileage\"]\n",
    "        number_of_days = (return_time - rental_time).days\n",
    "        number_of_kilometers = current_mileage - mileage\n",
    "\n",
    "        if category == CarCategory.COMPACT:\n",
    "            price = self.base_day_rental * number_of_days\n",
    "        elif category == CarCategory.PREMIUM:\n",
    "            price = self.base_day_rental * number_of_days * 1.2 + self.kilometer_price * number_of_kilometers\n",
    "        elif category == CarCategory.MINIVAN:\n",
    "            price = self.base_day_rental * number_of_days * 1.7 + self.kilometer_price * number_of_kilometers * 1.5\n",
    "        else:\n",
    "            return \"Invalid car category.\"\n",
    "\n",
    "        return f\"Price for rental period: {price:.2f} USD\"\n",
    "\n",
    "    \n",
    "    \n",
    "\n",
    "# Test cases\n",
    "if __name__ == \"__main__\":\n",
    "    base_day_rental = 50\n",
    "    kilometer_price = 0.2\n",
    "    rental_system = RentalCarAdmin(base_day_rental, kilometer_price)\n",
    "\n",
    "\n",
    "    \n",
    "    # Test Case 1: Rental registration\n",
    "    response1 = rental_system.register_rental(1001, \"John Doe\", CarCategory.COMPACT, datetime(2023, 7, 20), 20000)\n",
    "    print(response1)  # Output: Rental registration successful.\n",
    "\n",
    "\n",
    "    \n",
    "    # Test Case 2: Car Return and Price Calculation\n",
    "    response2 = rental_system.calculate_price(1001, datetime(2023, 7, 25), 20500)\n",
    "    print(response2)  # Output: Price for rental period: 250.00 USD\n"
   ]
  },
  {
   "cell_type": "code",
   "execution_count": null,
   "id": "fc578e46",
   "metadata": {},
   "outputs": [],
   "source": []
  },
  {
   "cell_type": "code",
   "execution_count": null,
   "id": "68ed3a94",
   "metadata": {},
   "outputs": [],
   "source": []
  },
  {
   "cell_type": "code",
   "execution_count": null,
   "id": "47985dd1",
   "metadata": {},
   "outputs": [],
   "source": []
  },
  {
   "cell_type": "code",
   "execution_count": null,
   "id": "b602f57b",
   "metadata": {},
   "outputs": [],
   "source": []
  },
  {
   "cell_type": "code",
   "execution_count": null,
   "id": "68c326d0",
   "metadata": {},
   "outputs": [],
   "source": []
  }
 ],
 "metadata": {
  "kernelspec": {
   "display_name": "Python 3",
   "language": "python",
   "name": "python3"
  },
  "language_info": {
   "codemirror_mode": {
    "name": "ipython",
    "version": 3
   },
   "file_extension": ".py",
   "mimetype": "text/x-python",
   "name": "python",
   "nbconvert_exporter": "python",
   "pygments_lexer": "ipython3",
   "version": "3.8.8"
  }
 },
 "nbformat": 4,
 "nbformat_minor": 5
}
